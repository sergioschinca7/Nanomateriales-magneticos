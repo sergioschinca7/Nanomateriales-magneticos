{
  "nbformat": 4,
  "nbformat_minor": 0,
  "metadata": {
    "colab": {
      "name": "Proyecto Magnetismo.ipynb",
      "provenance": [],
      "collapsed_sections": []
    },
    "kernelspec": {
      "display_name": "Python 3",
      "name": "python3"
    }
  },
  "cells": [
    {
      "cell_type": "markdown",
      "metadata": {
        "id": "vagO0GjscXlo"
      },
      "source": [
        "**Proyecto - Curso de Magnetismo**  "
      ]
    },
    {
      "cell_type": "code",
      "metadata": {
        "id": "sLc8ZhiDFXL0"
      },
      "source": [
        "import matplotlib.pyplot as plt\n",
        "import numpy as np\n",
        "\n",
        "np.seterr(divide='ignore',invalid='ignore',over='ignore')\n",
        "plt.style.use('bmh')"
      ],
      "execution_count": null,
      "outputs": []
    },
    {
      "cell_type": "markdown",
      "metadata": {
        "id": "mBN7w04NGtj8"
      },
      "source": [
        "**Parámetros y Constantes:**"
      ]
    },
    {
      "cell_type": "code",
      "metadata": {
        "id": "FsGqscfKFu3R"
      },
      "source": [
        "K=5.0e4              #Constante de Anisotropía (J/m3)\n",
        "D0=10.0e-9           #Diametro Medio           (m)\n",
        "DH=16e-9             #Diametro Hidrodinámico   (m)\n",
        "tau0=1e-9            #Constante de Tiempo      (s)\n",
        "kB=1.381e-23         #Constante de Bolztmann   (J/K)\n",
        "mu0=4.0*np.pi*1.0e-7 #Permeabilidad de Vacío   (N/A2)\n",
        "muB=9.274e-24        #Magnetón de Bohr         (Am2)\n",
        "f_nps=5.0e-3         #Fracción de masa NPS     (SIN UNIDADES)\n",
        "\n",
        "V=(np.pi/6.0)*D0**3  #Volumen NPS                (m3)\n",
        "VH=(np.pi/6.0)*DH**3 #Volumen Hidrodinámico      (m3)\n",
        "eta=1.0e-3           #Vicosidad del Agua (a 20°C)(Pa s)\n",
        "\n",
        "σs_0=70.0     #Magnetización de Saturación Másica (Am2/kg)\n",
        "alpha=2.75e-5 #Constante                          (K(2/3))\n",
        "\n",
        "rho_nps=4.9e3 #Densidad Maghemita (kg/m3)\n",
        "rho_H2O=997.0 #Densidad Agua      (kg/m3)\n",
        "rho_p=5.25e3  #Densidad Fe+3      (kg/m3)"
      ],
      "execution_count": null,
      "outputs": []
    },
    {
      "cell_type": "markdown",
      "metadata": {
        "id": "YvkFzmQfUynh"
      },
      "source": [
        "**Magnetización Másica de Saturación:**   \n",
        "\n",
        "$\\sigma_S=\\sigma_S(0)(1-\\alpha T^{3/2})$"
      ]
    },
    {
      "cell_type": "code",
      "metadata": {
        "id": "Boz7OCmqKyxz"
      },
      "source": [
        "def σs(T): return σs_0*(1.0-alpha*T**(3/2))"
      ],
      "execution_count": null,
      "outputs": []
    },
    {
      "cell_type": "markdown",
      "metadata": {
        "id": "uq8FvArxY2Vw"
      },
      "source": [
        "**Nota:** Recordar que es la magnetización de saturación y depende de la temperatura."
      ]
    },
    {
      "cell_type": "markdown",
      "metadata": {
        "id": "41zmgSk8ZFnU"
      },
      "source": [
        "--------------------------------------------------------------------------------------------------------------------------------------------------------------------------------------------------------------------------------------------------------------------------------------------------------------------------------"
      ]
    },
    {
      "cell_type": "markdown",
      "metadata": {
        "id": "DMO-yDfJz2g8"
      },
      "source": [
        "**Solución**"
      ]
    },
    {
      "cell_type": "markdown",
      "metadata": {
        "id": "ah9CIMoWFaGN"
      },
      "source": [
        "**1) Mecanismo de Relajación**   \n",
        "\n",
        "¿Por qué mecanismo relaja el momento magnético de las nps a $T=293$ K (usar el valor de la viscosidad del agua y $\\tau_0=10^{-9}$ s)."
      ]
    },
    {
      "cell_type": "markdown",
      "metadata": {
        "id": "VhWkCYrAIeFa"
      },
      "source": [
        "Tiempo de Néel: $\\tau_N=\\tau_0 exp(\\frac{KV}{k_BT})$   \n",
        "Tiempo de Brown: $\\tau_B=\\frac{3\\eta V_H}{k_BT}$\n",
        "\n",
        "$1/\\tau_{eff}=1/\\tau_N+1/\\tau_B$"
      ]
    },
    {
      "cell_type": "code",
      "metadata": {
        "id": "ejgbnIebFcY1"
      },
      "source": [
        "#Tiempo de Néel\n",
        "def TN(T): return tau0*np.exp((K*V)/(kB*T))\n",
        "\n",
        "#Tiempo de Brown\n",
        "def TB(T): return (3.0*eta*VH)/(kB*T)\n",
        "\n",
        "#Tiempo Efectivo\n",
        "def TE(T): return (TN(T)*TB(T))/(TN(T)+TB(T))"
      ],
      "execution_count": null,
      "outputs": []
    },
    {
      "cell_type": "code",
      "metadata": {
        "colab": {
          "base_uri": "https://localhost:8080/"
        },
        "id": "mauF7LGSG0U1",
        "outputId": "bd07f354-dd52-478f-a1f8-f5e1ad36138e"
      },
      "source": [
        "print('TN=%0.2e s'%TN(T=293))\n",
        "print('TB=%0.2e s'%TB(T=293))"
      ],
      "execution_count": null,
      "outputs": [
        {
          "output_type": "stream",
          "text": [
            "TN=6.46e-07 s\n",
            "TB=1.59e-06 s\n"
          ],
          "name": "stdout"
        }
      ]
    },
    {
      "cell_type": "code",
      "metadata": {
        "id": "mLLIg_7ybsZ9"
      },
      "source": [
        "T=np.linspace(4.0,300.0,200) #Temperatura (K)\n",
        "fig,ax=plt.subplots(figsize=(10,6))\n",
        "\n",
        "ax.plot(T,TE(T),'k',label='Efectivo')\n",
        "ax.plot(T,TN(T),'r',label='Néel')\n",
        "ax.plot(T,TB(T),'b',label='Brown')\n",
        "ax.set_xlabel('Temperatura (K)'); ax.set_ylabel('Tiempo (s)')\n",
        "plt.legend(loc='upper right',facecolor='w')\n",
        "ax.set_yscale('log'); ax.set_ylim(1e-7,1e1)\n",
        "\n",
        "#plt.savefig('P1_figura_1.png',bbox_inches='tight',pad_inches=0.3)\n",
        "plt.show()"
      ],
      "execution_count": null,
      "outputs": []
    },
    {
      "cell_type": "markdown",
      "metadata": {
        "id": "67eMJ8C7IIYK"
      },
      "source": [
        "**Respuesta:** El sistema se relaja mediante el mecanismo de Néel, debido a que este tiempo es inferior."
      ]
    },
    {
      "cell_type": "markdown",
      "metadata": {
        "id": "I7GzYRhrZN2w"
      },
      "source": [
        "----------------------------------------------------------------------------------------------------------------------------------------------------------------"
      ]
    },
    {
      "cell_type": "markdown",
      "metadata": {
        "id": "Q7Ug4AdJH6YC"
      },
      "source": [
        "**2) Susceptibilidad Másica**   \n",
        "\n",
        "a) Graficar las componentes real e imaginaria que esperaría obtener en una medida de susceptibilidad másica ac, en un rango continuo de temperatura entre $4$ y $273$ K, a diferentes frecuencias $(10,50,100,500,1000,5000)$ Hz.   \n",
        "\n",
        "b) Graficar el módulo de la susceptibildiad, la susceptibilidad de equilibrio $\\chi_0$ y $\\chi_\\infty$ en el mismo rango de temperaturas.   \n",
        "\n",
        "c) Indicar en los gráficos la temperatura de bloqueo de las nps.    \n",
        "\n",
        "d) Explicar las diferentes partes de las curvas.   \n",
        "\n",
        "e) Proponer un criterio para estimar la temperatura de bloqueo a partir de una medida experimental."
      ]
    },
    {
      "cell_type": "markdown",
      "metadata": {
        "id": "JLlyTyWSLb-I"
      },
      "source": [
        "Magnetizaciones:   $\\sigma=M/\\rho \\rightarrow M=\\rho\\sigma$   \n",
        "Momento Magnético: $\\mu=M_SV=\\rho\\sigma_SV$   \n",
        "                   $N=1/V$\n",
        "\n",
        "$\\chi_0=\\frac{N\\mu_0\\mu^2}{3k_BT} \\rightarrow \\chi_0^m \\equiv \\chi_0/\\rho=\\frac{\\mu_0\\sigma_S^2\\rho V}{3k_BT}$   \n",
        "$\\chi_\\infty=\\frac{\\mu_0M_S^2}{3K} \\rightarrow \\chi_\\infty^m \\equiv \\chi_\\infty/\\rho=\\frac{\\mu_0\\sigma_S^2\\rho}{3K}$   \n",
        "$\\chi\\prime=\\frac{\\chi_0+\\chi_\\infty(w\\tau)^2}{1+(w\\tau)^2} \\rightarrow$ Se convierte en la respectiva másica.   \n",
        "$\\chi\\prime\\prime=\\frac{(\\chi_0-\\chi_\\infty)(w\\tau)}{1+(w\\tau)^2} \\rightarrow$ Se convierte en la respectiva másica."
      ]
    },
    {
      "cell_type": "code",
      "metadata": {
        "id": "FdwiDeRWH4-y"
      },
      "source": [
        "T=np.linspace(4.0,300.0,200)          #Temperatura        (K)\n",
        "f=np.array([10,50,100,500,1000,5000]) #Frecuencia         (Hz)\n",
        "w=2.0*np.pi*f                         #Frecuencia Angular (rad/s)\n",
        "\n",
        "#Susceptibilidad Cero\n",
        "def Xm_0(T): return (mu0*σs(T)**2*rho_nps*V)/(3.0*kB*T)\n",
        "\n",
        "#Susceptibilidad Inf\n",
        "def Xm_oo(T): return (mu0*σs(T)**2*rho_nps)/(3.0*K)                      \n",
        "\n",
        "#Susceptibilidad Real\n",
        "def Xm_p(T,w): return (Xm_0(T)+Xm_oo(T)*(w*TN(T))**2)/(1+(w*TN(T))**2)\n",
        "\n",
        "#Susceptibilidad Imaginaria\n",
        "def Xm_pp(T,w): return ((Xm_0(T)-Xm_oo(T))*(w*TN(T)))/(1+(w*TN(T))**2)\n",
        "\n",
        "#Módulo Xm\n",
        "def mod_Xm(T,w): return np.sqrt((Xm_p(T,w))**2+(Xm_pp(T,w))**2)"
      ],
      "execution_count": null,
      "outputs": []
    },
    {
      "cell_type": "markdown",
      "metadata": {
        "id": "0aQ1bJDha_96"
      },
      "source": [
        "**Temperatura de Bloqueo:**\n",
        "\n",
        "$T_B=\\frac{KV}{ln(t_{exp}/\\tau_0) k_B}$     \n",
        "\n",
        "El tiempo experimental se toma tal que $t_{exp}=1/w$.    "
      ]
    },
    {
      "cell_type": "markdown",
      "metadata": {
        "id": "maPC5_95TRku"
      },
      "source": [
        "a) Gráfica - Susceptilidad Real e Imaginaria"
      ]
    },
    {
      "cell_type": "code",
      "metadata": {
        "id": "pzOUMmcwQaWD"
      },
      "source": [
        "fig,ax=plt.subplots(figsize=(8,5))\n",
        "ax.plot(T,Xm_p(T,w[0]),'k',label='10 Hz'); ax.plot(T,Xm_pp(T,w[0]),'r',label='10 Hz')\n",
        "ax.plot(T,Xm_p(T,w[1]),'k.',label='50 Hz'); ax.plot(T,Xm_pp(T,w[1]),'r.',label='50 Hz')\n",
        "ax.plot(T,Xm_p(T,w[2]),'k-.',label='100 Hz'); ax.plot(T,Xm_pp(T,w[2]),'r-.',label='100 Hz')\n",
        "ax.plot(T,Xm_p(T,w[3]),'k--',label='500 Hz'); ax.plot(T,Xm_pp(T,w[3]),'r--',label='500 Hz')\n",
        "ax.plot(T,Xm_p(T,w[4]),'kx',label='1000 Hz'); ax.plot(T,Xm_pp(T,w[4]),'rx',label='1000 Hz')\n",
        "ax.plot(T,Xm_p(T,w[5]),'k*',label='5000 Hz'); ax.plot(T,Xm_pp(T,w[5]),'r*',label='5000 Hz')\n",
        "#ax.plot(T,Xm_0(T),'y',label='$\\chi_0^m$'); ax.plot(T,Xm_oo(T),'g',label='$\\chi_\\infty^m$')\n",
        "ax.set_xlabel('Temperatura (K)'); ax.set_ylabel('Susceptibilidad Másica')\n",
        "plt.legend(loc='upper left',facecolor='w'); ax.set_xlim(-5,300); #ax.set_ylim(-0.2e-3,3e-3)\n",
        "\n",
        "#plt.savefig('1.png',bbox_inches='tight',pad_inches=0.3,dpi=300)\n",
        "plt.show()"
      ],
      "execution_count": null,
      "outputs": []
    },
    {
      "cell_type": "markdown",
      "metadata": {
        "id": "ZfSl-E9yaEhx"
      },
      "source": [
        "**Nota:** Lineas negras para la componente real de la susceptiblidad $\\chi\\prime$ y rojas para la imaginaria $\\chi\\prime\\prime$ ."
      ]
    },
    {
      "cell_type": "markdown",
      "metadata": {
        "id": "PNjTRLkDH-xf"
      },
      "source": [
        "Gráfica - Módulo Susceptilidad"
      ]
    },
    {
      "cell_type": "code",
      "metadata": {
        "id": "rLddvrHTld6p"
      },
      "source": [
        "fig,ax=plt.subplots(figsize=(8,5))\n",
        "TB=(K*V)/(np.log(1/(tau0*w[0]))*kB)\n",
        "ax.axvline(TB,color='g',alpha=0.5)\n",
        "#ax.plot(T,Xm_0(T),'k--',label='$\\chi_0$')\n",
        "#ax.plot(T,Xm_oo(T),'k-.',label='$\\chi_\\infty$')\n",
        "ax.plot(T,mod_Xm(T,w[0]),'g',label='Módulo',alpha=0.5)\n",
        "ax.plot(T,Xm_p(T,w[0]),'k',label=r'$\\chi\\prime$')\n",
        "ax.plot(T,Xm_pp(T,w[0]),'r',label=r'$\\chi\\prime\\prime$')\n",
        "ax.set_xlabel('T(K)'); ax.set_ylabel('Susceptibilidad Másica')\n",
        "ax.set_ylim(0.0,0.0040)\n",
        "plt.title('10 Hz') ;ax.legend(facecolor='w')\n",
        "\n",
        "#plt.savefig('3.png',bbox_inches='tight',pad_inches=0.3,dpi=300)\n",
        "plt.show()"
      ],
      "execution_count": null,
      "outputs": []
    },
    {
      "cell_type": "code",
      "metadata": {
        "id": "rut1Evgj9f4d"
      },
      "source": [
        "fig,ax=plt.subplots(figsize=(8,5))\n",
        "TB=(K*V)/(np.log(1/(tau0*w[5]))*kB)\n",
        "ax.axvline(TB,color='g',alpha=0.5)\n",
        "ax.plot(T,Xm_0(T),'k--',label='$\\chi_0$')\n",
        "ax.plot(T,Xm_oo(T),'k-.',label='$\\chi_\\infty$')\n",
        "ax.plot(T,mod_Xm(T,w[5]),'g',label='Módulo',alpha=0.5)\n",
        "ax.plot(T,Xm_p(T,w[5]),'k',label=r'$\\chi\\prime$')\n",
        "ax.plot(T,Xm_pp(T,w[5]),'r',label=r'$\\chi\\prime\\prime$')\n",
        "ax.set_xlabel('T(K)'); ax.set_ylabel('Susceptibilidad Másica')\n",
        "ax.set_ylim(0.0,0.0020)\n",
        "plt.title('5000 Hz') ;ax.legend(facecolor='w')\n",
        "\n",
        "#plt.savefig('5.png',bbox_inches='tight',pad_inches=0.3,dpi=300)\n",
        "plt.show()"
      ],
      "execution_count": null,
      "outputs": []
    },
    {
      "cell_type": "markdown",
      "metadata": {
        "id": "1V-SbINNSYU1"
      },
      "source": [
        "----------------------------------------------------------------------------------------------------------------------------------------------------------------"
      ]
    },
    {
      "cell_type": "markdown",
      "metadata": {
        "id": "lqwjzuQmVIs-"
      },
      "source": [
        "**3) Gráfica de $\\sigma - \\mu_0H$**   \n",
        "\n",
        "Graficar el ciclo $\\sigma$ vs $(-5≤\\mu_0H≤5)$ T que esperaría obtener a $T=293$ K."
      ]
    },
    {
      "cell_type": "markdown",
      "metadata": {
        "id": "VOIbnxvBIjF0"
      },
      "source": [
        " **Magnetización Másica**    \n",
        "\n",
        "Suponiento que la temperatura a la cual se pide obtener\\\n",
        "la gráfica está por encima de la temperatura de bloqueo, entonces:   \n",
        "\n",
        "Agua: $\\sigma_{H_2O}=\\frac{X_m}{\\mu_0}B$   \n",
        "NPS: $\\sigma_{nps}=\\sigma_S(T) \\ L(x)$, con $x=\\frac{ \\sigma_S(T)\\rho VB}{k_BT}$    \n",
        "Coloide: $\\sigma=(1-f_{nps})\\sigma_{H_2O}+f_{nps}\\sigma_{nps}$"
      ]
    },
    {
      "cell_type": "code",
      "metadata": {
        "id": "4EuQqikvIJtu"
      },
      "source": [
        "B=np.linspace(-5,5,200) #Inducción Magnética             (T)\n",
        "X_H2O=-9.051e-9         #Susceptibilidad Másica del Agua (m3/kg)\n",
        "\n",
        "#Función de Langevin\n",
        "def L(x): return 1.0/np.tanh(x)-1.0/x\n",
        "\n",
        "#Magnetización Agua\n",
        "def σ_H2O(B): return (X_H2O/mu0)*B\n",
        "\n",
        "#Magnetización Nanopartículas\n",
        "def σ_nps(B,T): \n",
        "  x=(σs(T)*rho_nps*V*B)/(kB*T)\n",
        "  return σs(T)*L(x)\n",
        "\n",
        "#Magnetización Coloide\n",
        "def σ_T(B,T): return (1.0-f_nps)*σ_H2O(B)+f_nps*σ_nps(B,T)"
      ],
      "execution_count": null,
      "outputs": []
    },
    {
      "cell_type": "code",
      "metadata": {
        "id": "9OlYBQGcexqb"
      },
      "source": [
        "fig,ax=plt.subplots(figsize=(5,4))\n",
        "\n",
        "ax.plot(B,σ_T(B,293),'k',label='Coloide')\n",
        "ax.plot(B,f_nps*σ_nps(B,293),'r',label='Nanopartículas')\n",
        "ax.plot(B,(1.0-f_nps)*σ_H2O(B),'b',label='Agua')\n",
        "ax.axvline(0,color='k',alpha=0.2); ax.axhline(0,color='k',alpha=0.2); ax.set_xlim(-5.2,5.2)\n",
        "ax.set_xlabel('$\\mu_0 H$ (T)'); ax.set_ylabel('$\\sigma$ (Am$^2$/kg)')\n",
        "ax.legend(loc='upper left',facecolor='w')\n",
        "\n",
        "#plt.savefig('P3_figura_1.png',bbox_inches='tight',pad_inches=0.3)\n",
        "plt.show()"
      ],
      "execution_count": null,
      "outputs": []
    },
    {
      "cell_type": "markdown",
      "metadata": {
        "id": "bkZN9XpCjY2e"
      },
      "source": [
        "**Nota:** Se pueden graficar las componentes por aparte para ver el comportamiento por separado de ambos compuestos. Es el código que está comentado (en verde)."
      ]
    },
    {
      "cell_type": "markdown",
      "metadata": {
        "id": "rMaXUSDLcMiy"
      },
      "source": [
        "----------------------------------------------------------------------------------------------------------------------------------------------------------------"
      ]
    },
    {
      "cell_type": "markdown",
      "metadata": {
        "id": "xnHYk-POVMGa"
      },
      "source": [
        "**4) Coloide Envejecido**   \n",
        "\n",
        "<div style=\"text-align: justify\"> El mismo coloide, pero envejecido, contiene también iones paramagnéticos de $Fe^{+3}$ en solución. La fracción de masa de nps que se disolvió y dio lugar a los iones paramagnéticos es $f_p=5\\times10^{-3}$. Graficar el momento magnético de la muestra envejecida en función de $T$ para $\\mu_0H=6$ T en el intervalo entre $4$ y $273$ K.</div> "
      ]
    },
    {
      "cell_type": "markdown",
      "metadata": {
        "id": "kQRUca2Zkb5C"
      },
      "source": [
        " **Magnetización Másica**    \n",
        "\n",
        "Agua: $\\sigma_{H_2O}=\\frac{X_m}{\\mu_0}B$     \n",
        "NPS: $\\sigma_{nps}=\\sigma_S(T) \\ L(x)$, con $x=\\frac{ \\sigma_S(T)\\rho VB}{k_BT}$  \n",
        "Hierro: $\\sigma_p=\\frac{\\mu^{max}}{M_{Fe^{+3}}} \\ B_{5/2}(x)$, con $x=\\frac{\\mu^{max} B}{k_BT}$      \n",
        "Coloide: $\\sigma=[1-(1+f_p)f_{nps}]\\sigma_{H_2O}+(1-f_p)f_{nps}\\sigma_{nps}+f_pf_{nps}\\sigma_p$"
      ]
    },
    {
      "cell_type": "code",
      "metadata": {
        "id": "bbFFPY_FkcDe"
      },
      "source": [
        "T=np.linspace(4.0,273.0,200) #Temperatura               (K)\n",
        "J=5/2                        #J Total Fe+3              (SIN UNIDADES)\n",
        "g=2                          #Factor de Landé           (SIN UNIDADES)\n",
        "m_p=g*muB*J                  #Momento Magnético Fe+3    (Am2)\n",
        "NA=6.022e23                  #Número de Avogadro        (1/mol)\n",
        "m_Fe=56e-3/NA                #Masa Fe+3                 ()\n",
        "σ_Fe=m_p/m_Fe                #Magnetización Másica Fe+3 (Am3/kg)\n",
        "f_p=5.0e-3                   #Fracción de masa Fe+3     (SIN UNIDADES)\n",
        "\n",
        "#Función de Langevin\n",
        "def L(x): return 1.0/np.tanh(x)-1.0/x\n",
        "\n",
        "#Función de Brillouin\n",
        "def BJ(x,J):\n",
        "    T1=(2*J+1)/(2*J); T2=1/(2*J)\n",
        "    return T1*(np.cosh(T1*x)/np.sinh(T1*x))-T2*(np.cosh(T2*x)/np.sinh(T2*x))\n",
        "\n",
        "#Magnetización Agua\n",
        "def σ_H2O(B): return (X_H2O/mu0)*B\n",
        "\n",
        "#Magnetización Nanopartículas\n",
        "def σ_nps(B,T): \n",
        "  x=(σs(T)*rho_nps*V*B)/(kB*T)\n",
        "  return σs(T)*L(x)\n",
        "\n",
        "#Magnetización Fe+3\n",
        "def σ_p(B,T): \n",
        "  x=(m_p*B)/(kB*T)\n",
        "  return σ_Fe*BJ(x,J)\n",
        "\n",
        "#Magnetización Coloide\n",
        "def σ_T(B,T,f_p): return (1-(1+f_p)*f_nps)*σ_H2O(B)+(1+f_p)*f_nps*σ_nps(B,T)+f_p*f_nps*σ_p(B,T)"
      ],
      "execution_count": null,
      "outputs": []
    },
    {
      "cell_type": "code",
      "metadata": {
        "id": "4ac7-VgqzfyN"
      },
      "source": [
        "fig,ax=plt.subplots(figsize=(5,4))\n",
        "\n",
        "f_p=5.0e-3\n",
        "ax.plot(T,σ_T(6,T,f_p),'k',label='Coloide')\n",
        "ax.plot(T,(1+f_p)*f_nps*σ_nps(6,T),'r',label='Nanopartículas')\n",
        "ax.plot(T,f_p*f_nps*σ_p(6,T),'g',label='$Fe^{+3}$')\n",
        "ax.plot(T,(1-(1+f_p)*f_nps)*σ_H2O(6)*(T/T),'b',label='Agua')\n",
        "ax.set_xlim(-5,280); ax.set_ylim(-0.1,0.5)\n",
        "ax.set_xlabel('$T$ (K)'); ax.set_ylabel('$\\sigma$ (Am$^2$/kg)')\n",
        "ax.legend(loc='lower right',facecolor='w')\n",
        "ax.set_title('$f_p=5 \\\\times 10^{-3}$')\n",
        "\n",
        "#plt.savefig('A.png',bbox_inches='tight',pad_inches=0.3,dpi=300)\n",
        "plt.show()"
      ],
      "execution_count": null,
      "outputs": []
    }
  ]
}